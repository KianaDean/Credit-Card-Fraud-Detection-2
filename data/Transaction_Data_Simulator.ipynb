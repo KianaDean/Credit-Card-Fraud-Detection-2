{
  "nbformat": 4,
  "nbformat_minor": 0,
  "metadata": {
    "colab": {
      "name": "Transaction Data Simulator.ipynb",
      "provenance": [],
      "collapsed_sections": []
    },
    "kernelspec": {
      "name": "python3",
      "display_name": "Python 3"
    },
    "language_info": {
      "name": "python"
    }
  },
  "cells": [
    {
      "cell_type": "markdown",
      "metadata": {
        "id": "CJCBC4obFN30"
      },
      "source": [
        "# Transaction Data Simulator\n",
        "Resource: https://fraud-detection-handbook.github.io/fraud-detection-handbook/Foreword.html\n",
        "\n",
        "Code: https://github.com/Fraud-Detection-Handbook/fraud-detection-handbook/blob/main/Chapter_3_GettingStarted/SimulatedDataset.ipynb"
      ]
    },
    {
      "cell_type": "code",
      "metadata": {
        "id": "T6dS8CS2EiBr"
      },
      "source": [
        "# Necessary imports for this notebook\n",
        "import os\n",
        "\n",
        "import numpy as np\n",
        "import pandas as pd\n",
        "\n",
        "import datetime\n",
        "import time\n",
        "\n",
        "import random\n",
        "\n",
        "# For plotting\n",
        "%matplotlib inline\n",
        "\n",
        "import matplotlib.pyplot as plt\n",
        "import seaborn as sns\n",
        "\n",
        "sns.set_style('darkgrid', {'axes.facecolor': '0.9'})"
      ],
      "execution_count": 1,
      "outputs": []
    },
    {
      "cell_type": "markdown",
      "metadata": {
        "id": "lnp_W_E9Gk8y"
      },
      "source": [
        "## Customer Profile Generation\n",
        "\n",
        "Properties:\n",
        "\n",
        "\n",
        "*   CUSTOMER_ID: The customer unique ID\n",
        "*   (x_customer_id,y_customer_id): A pair of real coordinates (x_customer_id,y_customer_id) that defines the geographical location of the customer\n",
        "*   (mean_amount, std_amount): The mean and standard deviation of the transaction amounts for the customer\n",
        "*   mean_nb_tx_per_day: The average number of transactions per day for the customer\n",
        "\n",
        "The generate_customer_profiles_table function provides an implementation for generating a table of customer profiles. It takes as input the number of customers for which to generate a profile and a random state for reproducibility. It returns a DataFrame containing the properties for each customer.\n"
      ]
    },
    {
      "cell_type": "code",
      "metadata": {
        "id": "8HD3xZsbGayK"
      },
      "source": [
        "def generate_customer_profiles_table(n_customers, random_state=0):\n",
        "    \n",
        "    np.random.seed(random_state)\n",
        "        \n",
        "    customer_id_properties=[]\n",
        "    \n",
        "    # Generate customer properties from random distributions \n",
        "    for customer_id in range(n_customers):\n",
        "        \n",
        "        x_customer_id = np.random.uniform(0,100)\n",
        "        y_customer_id = np.random.uniform(0,100)\n",
        "        \n",
        "        mean_amount = np.random.uniform(5,100) # Arbitrary (but sensible) value \n",
        "        std_amount = mean_amount/2 # Arbitrary (but sensible) value\n",
        "        \n",
        "        mean_nb_tx_per_day = np.random.uniform(0,4) # Arbitrary (but sensible) value \n",
        "        \n",
        "        customer_id_properties.append([customer_id,\n",
        "                                      x_customer_id, y_customer_id,\n",
        "                                      mean_amount, std_amount,\n",
        "                                      mean_nb_tx_per_day])\n",
        "        \n",
        "    customer_profiles_table = pd.DataFrame(customer_id_properties, columns=['CUSTOMER_ID',\n",
        "                                                                      'x_customer_id', 'y_customer_id',\n",
        "                                                                      'mean_amount', 'std_amount',\n",
        "                                                                      'mean_nb_tx_per_day'])\n",
        "    \n",
        "    return customer_profiles_table"
      ],
      "execution_count": 2,
      "outputs": []
    },
    {
      "cell_type": "code",
      "metadata": {
        "colab": {
          "base_uri": "https://localhost:8080/",
          "height": 203
        },
        "id": "UQGlc_DrIRvy",
        "outputId": "c63b1fe8-e929-4487-f2cb-ab1183460ef1"
      },
      "source": [
        "# Generate a customer profile table for five customers\n",
        "n_customers = 5\n",
        "customer_profiles_table = generate_customer_profiles_table(n_customers, random_state = 0)\n",
        "customer_profiles_table"
      ],
      "execution_count": 3,
      "outputs": [
        {
          "output_type": "execute_result",
          "data": {
            "text/html": [
              "<div>\n",
              "<style scoped>\n",
              "    .dataframe tbody tr th:only-of-type {\n",
              "        vertical-align: middle;\n",
              "    }\n",
              "\n",
              "    .dataframe tbody tr th {\n",
              "        vertical-align: top;\n",
              "    }\n",
              "\n",
              "    .dataframe thead th {\n",
              "        text-align: right;\n",
              "    }\n",
              "</style>\n",
              "<table border=\"1\" class=\"dataframe\">\n",
              "  <thead>\n",
              "    <tr style=\"text-align: right;\">\n",
              "      <th></th>\n",
              "      <th>CUSTOMER_ID</th>\n",
              "      <th>x_customer_id</th>\n",
              "      <th>y_customer_id</th>\n",
              "      <th>mean_amount</th>\n",
              "      <th>std_amount</th>\n",
              "      <th>mean_nb_tx_per_day</th>\n",
              "    </tr>\n",
              "  </thead>\n",
              "  <tbody>\n",
              "    <tr>\n",
              "      <th>0</th>\n",
              "      <td>0</td>\n",
              "      <td>54.881350</td>\n",
              "      <td>71.518937</td>\n",
              "      <td>62.262521</td>\n",
              "      <td>31.131260</td>\n",
              "      <td>2.179533</td>\n",
              "    </tr>\n",
              "    <tr>\n",
              "      <th>1</th>\n",
              "      <td>1</td>\n",
              "      <td>42.365480</td>\n",
              "      <td>64.589411</td>\n",
              "      <td>46.570785</td>\n",
              "      <td>23.285393</td>\n",
              "      <td>3.567092</td>\n",
              "    </tr>\n",
              "    <tr>\n",
              "      <th>2</th>\n",
              "      <td>2</td>\n",
              "      <td>96.366276</td>\n",
              "      <td>38.344152</td>\n",
              "      <td>80.213879</td>\n",
              "      <td>40.106939</td>\n",
              "      <td>2.115580</td>\n",
              "    </tr>\n",
              "    <tr>\n",
              "      <th>3</th>\n",
              "      <td>3</td>\n",
              "      <td>56.804456</td>\n",
              "      <td>92.559664</td>\n",
              "      <td>11.748426</td>\n",
              "      <td>5.874213</td>\n",
              "      <td>0.348517</td>\n",
              "    </tr>\n",
              "    <tr>\n",
              "      <th>4</th>\n",
              "      <td>4</td>\n",
              "      <td>2.021840</td>\n",
              "      <td>83.261985</td>\n",
              "      <td>78.924891</td>\n",
              "      <td>39.462446</td>\n",
              "      <td>3.480049</td>\n",
              "    </tr>\n",
              "  </tbody>\n",
              "</table>\n",
              "</div>"
            ],
            "text/plain": [
              "   CUSTOMER_ID  x_customer_id  ...  std_amount  mean_nb_tx_per_day\n",
              "0            0      54.881350  ...   31.131260            2.179533\n",
              "1            1      42.365480  ...   23.285393            3.567092\n",
              "2            2      96.366276  ...   40.106939            2.115580\n",
              "3            3      56.804456  ...    5.874213            0.348517\n",
              "4            4       2.021840  ...   39.462446            3.480049\n",
              "\n",
              "[5 rows x 6 columns]"
            ]
          },
          "metadata": {
            "tags": []
          },
          "execution_count": 3
        }
      ]
    },
    {
      "cell_type": "markdown",
      "metadata": {
        "id": "kTEWfy7PI2Ln"
      },
      "source": [
        "## Terminal Profile Generation\n",
        "\n",
        "Properties:\n",
        "\n",
        "\n",
        "*   TERMINAL_ID: The terminal ID\n",
        "*   (x_terminal_id,y_terminal_id): A pair of real coordinates (x_terminal_id,y_terminal_id) that defines the geographical location of the terminal\n",
        "\n",
        "The generate_terminal_profiles_table function provides an implementation for generating a table of terminal profiles. It takes as input the number of terminals for which to generate a profile and a random state for reproducibility. It returns a DataFrame containing the properties for each terminal."
      ]
    },
    {
      "cell_type": "code",
      "metadata": {
        "id": "4iZxiiidKv8W"
      },
      "source": [
        "def generate_terminal_profiles_table(n_terminals, random_state=0):\n",
        "    \n",
        "    np.random.seed(random_state)\n",
        "        \n",
        "    terminal_id_properties=[]\n",
        "    \n",
        "    # Generate terminal properties from random distributions \n",
        "    for terminal_id in range(n_terminals):\n",
        "        \n",
        "        x_terminal_id = np.random.uniform(0,100)\n",
        "        y_terminal_id = np.random.uniform(0,100)\n",
        "        \n",
        "        terminal_id_properties.append([terminal_id,\n",
        "                                      x_terminal_id, y_terminal_id])\n",
        "                                       \n",
        "    terminal_profiles_table = pd.DataFrame(terminal_id_properties, columns=['TERMINAL_ID',\n",
        "                                                                      'x_terminal_id', 'y_terminal_id'])\n",
        "    \n",
        "    return terminal_profiles_table"
      ],
      "execution_count": 4,
      "outputs": []
    },
    {
      "cell_type": "code",
      "metadata": {
        "colab": {
          "base_uri": "https://localhost:8080/",
          "height": 203
        },
        "id": "qU8WTHXKK1r5",
        "outputId": "8dfbd705-616a-4350-a0d0-701b89bd5463"
      },
      "source": [
        "# Generate a customer terminal table for five terminals\n",
        "n_terminals = 5\n",
        "terminal_profiles_table = generate_terminal_profiles_table(n_terminals, random_state = 0)\n",
        "terminal_profiles_table"
      ],
      "execution_count": 5,
      "outputs": [
        {
          "output_type": "execute_result",
          "data": {
            "text/html": [
              "<div>\n",
              "<style scoped>\n",
              "    .dataframe tbody tr th:only-of-type {\n",
              "        vertical-align: middle;\n",
              "    }\n",
              "\n",
              "    .dataframe tbody tr th {\n",
              "        vertical-align: top;\n",
              "    }\n",
              "\n",
              "    .dataframe thead th {\n",
              "        text-align: right;\n",
              "    }\n",
              "</style>\n",
              "<table border=\"1\" class=\"dataframe\">\n",
              "  <thead>\n",
              "    <tr style=\"text-align: right;\">\n",
              "      <th></th>\n",
              "      <th>TERMINAL_ID</th>\n",
              "      <th>x_terminal_id</th>\n",
              "      <th>y_terminal_id</th>\n",
              "    </tr>\n",
              "  </thead>\n",
              "  <tbody>\n",
              "    <tr>\n",
              "      <th>0</th>\n",
              "      <td>0</td>\n",
              "      <td>54.881350</td>\n",
              "      <td>71.518937</td>\n",
              "    </tr>\n",
              "    <tr>\n",
              "      <th>1</th>\n",
              "      <td>1</td>\n",
              "      <td>60.276338</td>\n",
              "      <td>54.488318</td>\n",
              "    </tr>\n",
              "    <tr>\n",
              "      <th>2</th>\n",
              "      <td>2</td>\n",
              "      <td>42.365480</td>\n",
              "      <td>64.589411</td>\n",
              "    </tr>\n",
              "    <tr>\n",
              "      <th>3</th>\n",
              "      <td>3</td>\n",
              "      <td>43.758721</td>\n",
              "      <td>89.177300</td>\n",
              "    </tr>\n",
              "    <tr>\n",
              "      <th>4</th>\n",
              "      <td>4</td>\n",
              "      <td>96.366276</td>\n",
              "      <td>38.344152</td>\n",
              "    </tr>\n",
              "  </tbody>\n",
              "</table>\n",
              "</div>"
            ],
            "text/plain": [
              "   TERMINAL_ID  x_terminal_id  y_terminal_id\n",
              "0            0      54.881350      71.518937\n",
              "1            1      60.276338      54.488318\n",
              "2            2      42.365480      64.589411\n",
              "3            3      43.758721      89.177300\n",
              "4            4      96.366276      38.344152"
            ]
          },
          "metadata": {
            "tags": []
          },
          "execution_count": 5
        }
      ]
    },
    {
      "cell_type": "markdown",
      "metadata": {
        "id": "fajKORQ-LOIR"
      },
      "source": [
        "## Association of customer profiles to terminals\n",
        "Let us now associate terminals to customer profiles. In our design, customers can only perform transactions on terminals that are within a radius of r of their geographical locations.\n",
        "\n",
        "Let us first write a function, called get_list_terminals_within_radius, which finds these terminals for a customer profile. The function will take as input a customer profile (any row in the customer profiles table), an array that contains the geographical location of all terminals, and the radius r. It will return the list of terminals within a radius of r for that customer."
      ]
    },
    {
      "cell_type": "code",
      "metadata": {
        "id": "ndvQVVKfL8f-"
      },
      "source": [
        "def get_list_terminals_within_radius(customer_profile, x_y_terminals, r):\n",
        "    \n",
        "    # Use numpy arrays in the following to speed up computations\n",
        "    \n",
        "    # Location (x,y) of customer as numpy array\n",
        "    x_y_customer = customer_profile[['x_customer_id','y_customer_id']].values.astype(float)\n",
        "    \n",
        "    # Squared difference in coordinates between customer and terminal locations\n",
        "    squared_diff_x_y = np.square(x_y_customer - x_y_terminals)\n",
        "    \n",
        "    # Sum along rows and compute suared root to get distance\n",
        "    dist_x_y = np.sqrt(np.sum(squared_diff_x_y, axis=1))\n",
        "    \n",
        "    # Get the indices of terminals which are at a distance less than r\n",
        "    available_terminals = list(np.where(dist_x_y<r)[0])\n",
        "    \n",
        "    # Return the list of terminal IDs\n",
        "    return available_terminals"
      ],
      "execution_count": 6,
      "outputs": []
    },
    {
      "cell_type": "code",
      "metadata": {
        "colab": {
          "base_uri": "https://localhost:8080/"
        },
        "id": "wrIitnk_MXII",
        "outputId": "09d6d610-6aa5-4268-80c7-8c23e01e8e97"
      },
      "source": [
        "# Get the list of terminals that are within a 50 mile radius of the last customer\n",
        "\n",
        "# Get the geographical locations of all terminals as a numpy array\n",
        "x_y_terminals = terminal_profiles_table[['x_terminal_id','y_terminal_id']].values.astype(float)\n",
        "# Get the list of terminals within radius of 50 for the last customer\n",
        "get_list_terminals_within_radius(customer_profiles_table.iloc[4], x_y_terminals=x_y_terminals, r=50)"
      ],
      "execution_count": 7,
      "outputs": [
        {
          "output_type": "execute_result",
          "data": {
            "text/plain": [
              "[2, 3]"
            ]
          },
          "metadata": {
            "tags": []
          },
          "execution_count": 7
        }
      ]
    },
    {
      "cell_type": "markdown",
      "metadata": {
        "id": "p2Fn3647NRqq"
      },
      "source": [
        "The third and fourth terminal are the only terminals within a 50 mile radius of the last customer."
      ]
    },
    {
      "cell_type": "code",
      "metadata": {
        "colab": {
          "base_uri": "https://localhost:8080/",
          "height": 203
        },
        "id": "hFbLmvEZN9m7",
        "outputId": "8c10c97f-354d-41f4-fc77-0a099ab44190"
      },
      "source": [
        "# List of available terminals for each customer\n",
        "customer_profiles_table['available_terminals']=customer_profiles_table.apply(lambda x : get_list_terminals_within_radius(x, x_y_terminals=x_y_terminals, r=50), axis=1)\n",
        "customer_profiles_table"
      ],
      "execution_count": 8,
      "outputs": [
        {
          "output_type": "execute_result",
          "data": {
            "text/html": [
              "<div>\n",
              "<style scoped>\n",
              "    .dataframe tbody tr th:only-of-type {\n",
              "        vertical-align: middle;\n",
              "    }\n",
              "\n",
              "    .dataframe tbody tr th {\n",
              "        vertical-align: top;\n",
              "    }\n",
              "\n",
              "    .dataframe thead th {\n",
              "        text-align: right;\n",
              "    }\n",
              "</style>\n",
              "<table border=\"1\" class=\"dataframe\">\n",
              "  <thead>\n",
              "    <tr style=\"text-align: right;\">\n",
              "      <th></th>\n",
              "      <th>CUSTOMER_ID</th>\n",
              "      <th>x_customer_id</th>\n",
              "      <th>y_customer_id</th>\n",
              "      <th>mean_amount</th>\n",
              "      <th>std_amount</th>\n",
              "      <th>mean_nb_tx_per_day</th>\n",
              "      <th>available_terminals</th>\n",
              "    </tr>\n",
              "  </thead>\n",
              "  <tbody>\n",
              "    <tr>\n",
              "      <th>0</th>\n",
              "      <td>0</td>\n",
              "      <td>54.881350</td>\n",
              "      <td>71.518937</td>\n",
              "      <td>62.262521</td>\n",
              "      <td>31.131260</td>\n",
              "      <td>2.179533</td>\n",
              "      <td>[0, 1, 2, 3]</td>\n",
              "    </tr>\n",
              "    <tr>\n",
              "      <th>1</th>\n",
              "      <td>1</td>\n",
              "      <td>42.365480</td>\n",
              "      <td>64.589411</td>\n",
              "      <td>46.570785</td>\n",
              "      <td>23.285393</td>\n",
              "      <td>3.567092</td>\n",
              "      <td>[0, 1, 2, 3]</td>\n",
              "    </tr>\n",
              "    <tr>\n",
              "      <th>2</th>\n",
              "      <td>2</td>\n",
              "      <td>96.366276</td>\n",
              "      <td>38.344152</td>\n",
              "      <td>80.213879</td>\n",
              "      <td>40.106939</td>\n",
              "      <td>2.115580</td>\n",
              "      <td>[1, 4]</td>\n",
              "    </tr>\n",
              "    <tr>\n",
              "      <th>3</th>\n",
              "      <td>3</td>\n",
              "      <td>56.804456</td>\n",
              "      <td>92.559664</td>\n",
              "      <td>11.748426</td>\n",
              "      <td>5.874213</td>\n",
              "      <td>0.348517</td>\n",
              "      <td>[0, 1, 2, 3]</td>\n",
              "    </tr>\n",
              "    <tr>\n",
              "      <th>4</th>\n",
              "      <td>4</td>\n",
              "      <td>2.021840</td>\n",
              "      <td>83.261985</td>\n",
              "      <td>78.924891</td>\n",
              "      <td>39.462446</td>\n",
              "      <td>3.480049</td>\n",
              "      <td>[2, 3]</td>\n",
              "    </tr>\n",
              "  </tbody>\n",
              "</table>\n",
              "</div>"
            ],
            "text/plain": [
              "   CUSTOMER_ID  x_customer_id  ...  mean_nb_tx_per_day  available_terminals\n",
              "0            0      54.881350  ...            2.179533         [0, 1, 2, 3]\n",
              "1            1      42.365480  ...            3.567092         [0, 1, 2, 3]\n",
              "2            2      96.366276  ...            2.115580               [1, 4]\n",
              "3            3      56.804456  ...            0.348517         [0, 1, 2, 3]\n",
              "4            4       2.021840  ...            3.480049               [2, 3]\n",
              "\n",
              "[5 rows x 7 columns]"
            ]
          },
          "metadata": {
            "tags": []
          },
          "execution_count": 8
        }
      ]
    },
    {
      "cell_type": "markdown",
      "metadata": {
        "id": "qRKQpEpfPDt_"
      },
      "source": [
        "## Generation of Transactions\n",
        "The customer profiles now contain all the information that we require to generate transactions. The transaction generation will be done by a function generate_transactions_table that takes as input a customer profile, a starting date, and a number of days for which to generate transactions. It will return a table of transactions, which follows the format presented above."
      ]
    },
    {
      "cell_type": "code",
      "metadata": {
        "id": "iCCXV3RWPNo7"
      },
      "source": [
        "\n",
        "def generate_transactions_table(customer_profile, start_date = \"2018-04-01\", nb_days = 10):\n",
        "    \n",
        "    customer_transactions = []\n",
        "    \n",
        "    random.seed(customer_profile.CUSTOMER_ID)\n",
        "    np.random.seed(customer_profile.CUSTOMER_ID)\n",
        "    \n",
        "    # For all days\n",
        "    for day in range(nb_days):\n",
        "        \n",
        "        # Random number of transactions for that day \n",
        "        nb_tx = np.random.poisson(customer_profile.mean_nb_tx_per_day)\n",
        "        \n",
        "        # If nb_tx positive, let us generate transactions\n",
        "        if nb_tx>0:\n",
        "            \n",
        "            for tx in range(nb_tx):\n",
        "                \n",
        "                # Time of transaction: Around noon, std 20000 seconds. This choice aims at simulating the fact that \n",
        "                # most transactions occur during the day.\n",
        "                time_tx = int(np.random.normal(86400/2, 20000))\n",
        "                \n",
        "                # If transaction time between 0 and 86400, let us keep it, otherwise, let us discard it\n",
        "                if (time_tx>0) and (time_tx<86400):\n",
        "                    \n",
        "                    # Amount is drawn from a normal distribution  \n",
        "                    amount = np.random.normal(customer_profile.mean_amount, customer_profile.std_amount)\n",
        "                    \n",
        "                    # If amount negative, draw from a uniform distribution\n",
        "                    if amount<0:\n",
        "                        amount = np.random.uniform(0,customer_profile.mean_amount*2)\n",
        "                    \n",
        "                    amount=np.round(amount,decimals=2)\n",
        "                    \n",
        "                    if len(customer_profile.available_terminals)>0:\n",
        "                        \n",
        "                        terminal_id = random.choice(customer_profile.available_terminals)\n",
        "                    \n",
        "                        customer_transactions.append([time_tx+day*86400, day,\n",
        "                                                      customer_profile.CUSTOMER_ID, \n",
        "                                                      terminal_id, amount])\n",
        "            \n",
        "    customer_transactions = pd.DataFrame(customer_transactions, columns=['TX_TIME_SECONDS', 'TX_TIME_DAYS', 'CUSTOMER_ID', 'TERMINAL_ID', 'TX_AMOUNT'])\n",
        "    \n",
        "    if len(customer_transactions)>0:\n",
        "        customer_transactions['TX_DATETIME'] = pd.to_datetime(customer_transactions[\"TX_TIME_SECONDS\"], unit='s', origin=start_date)\n",
        "        customer_transactions=customer_transactions[['TX_DATETIME','CUSTOMER_ID', 'TERMINAL_ID', 'TX_AMOUNT','TX_TIME_SECONDS', 'TX_TIME_DAYS']]\n",
        "    \n",
        "    return customer_transactions"
      ],
      "execution_count": 9,
      "outputs": []
    },
    {
      "cell_type": "code",
      "metadata": {
        "colab": {
          "base_uri": "https://localhost:8080/",
          "height": 573
        },
        "id": "kKHB_3WsPlBC",
        "outputId": "0d16dc5a-2200-450b-8a99-75fab648d207"
      },
      "source": [
        "# Generate transactions for the first customer, for five days, starting on 4/1/2018\n",
        "transaction_table_customer_0=generate_transactions_table(customer_profiles_table.iloc[0], \n",
        "                                                         start_date = \"2018-04-01\", \n",
        "                                                         nb_days = 5)\n",
        "transaction_table_customer_0"
      ],
      "execution_count": 10,
      "outputs": [
        {
          "output_type": "execute_result",
          "data": {
            "text/html": [
              "<div>\n",
              "<style scoped>\n",
              "    .dataframe tbody tr th:only-of-type {\n",
              "        vertical-align: middle;\n",
              "    }\n",
              "\n",
              "    .dataframe tbody tr th {\n",
              "        vertical-align: top;\n",
              "    }\n",
              "\n",
              "    .dataframe thead th {\n",
              "        text-align: right;\n",
              "    }\n",
              "</style>\n",
              "<table border=\"1\" class=\"dataframe\">\n",
              "  <thead>\n",
              "    <tr style=\"text-align: right;\">\n",
              "      <th></th>\n",
              "      <th>TX_DATETIME</th>\n",
              "      <th>CUSTOMER_ID</th>\n",
              "      <th>TERMINAL_ID</th>\n",
              "      <th>TX_AMOUNT</th>\n",
              "      <th>TX_TIME_SECONDS</th>\n",
              "      <th>TX_TIME_DAYS</th>\n",
              "    </tr>\n",
              "  </thead>\n",
              "  <tbody>\n",
              "    <tr>\n",
              "      <th>0</th>\n",
              "      <td>2018-04-01 07:19:05</td>\n",
              "      <td>0</td>\n",
              "      <td>3</td>\n",
              "      <td>123.59</td>\n",
              "      <td>26345</td>\n",
              "      <td>0</td>\n",
              "    </tr>\n",
              "    <tr>\n",
              "      <th>1</th>\n",
              "      <td>2018-04-01 19:02:02</td>\n",
              "      <td>0</td>\n",
              "      <td>3</td>\n",
              "      <td>46.51</td>\n",
              "      <td>68522</td>\n",
              "      <td>0</td>\n",
              "    </tr>\n",
              "    <tr>\n",
              "      <th>2</th>\n",
              "      <td>2018-04-01 18:00:16</td>\n",
              "      <td>0</td>\n",
              "      <td>0</td>\n",
              "      <td>77.34</td>\n",
              "      <td>64816</td>\n",
              "      <td>0</td>\n",
              "    </tr>\n",
              "    <tr>\n",
              "      <th>3</th>\n",
              "      <td>2018-04-02 15:13:02</td>\n",
              "      <td>0</td>\n",
              "      <td>2</td>\n",
              "      <td>32.35</td>\n",
              "      <td>141182</td>\n",
              "      <td>1</td>\n",
              "    </tr>\n",
              "    <tr>\n",
              "      <th>4</th>\n",
              "      <td>2018-04-02 14:05:38</td>\n",
              "      <td>0</td>\n",
              "      <td>3</td>\n",
              "      <td>63.30</td>\n",
              "      <td>137138</td>\n",
              "      <td>1</td>\n",
              "    </tr>\n",
              "    <tr>\n",
              "      <th>5</th>\n",
              "      <td>2018-04-02 15:46:51</td>\n",
              "      <td>0</td>\n",
              "      <td>3</td>\n",
              "      <td>13.59</td>\n",
              "      <td>143211</td>\n",
              "      <td>1</td>\n",
              "    </tr>\n",
              "    <tr>\n",
              "      <th>6</th>\n",
              "      <td>2018-04-02 08:51:06</td>\n",
              "      <td>0</td>\n",
              "      <td>2</td>\n",
              "      <td>54.72</td>\n",
              "      <td>118266</td>\n",
              "      <td>1</td>\n",
              "    </tr>\n",
              "    <tr>\n",
              "      <th>7</th>\n",
              "      <td>2018-04-02 20:24:47</td>\n",
              "      <td>0</td>\n",
              "      <td>3</td>\n",
              "      <td>51.89</td>\n",
              "      <td>159887</td>\n",
              "      <td>1</td>\n",
              "    </tr>\n",
              "    <tr>\n",
              "      <th>8</th>\n",
              "      <td>2018-04-03 12:15:47</td>\n",
              "      <td>0</td>\n",
              "      <td>2</td>\n",
              "      <td>117.91</td>\n",
              "      <td>216947</td>\n",
              "      <td>2</td>\n",
              "    </tr>\n",
              "    <tr>\n",
              "      <th>9</th>\n",
              "      <td>2018-04-03 08:50:09</td>\n",
              "      <td>0</td>\n",
              "      <td>1</td>\n",
              "      <td>67.72</td>\n",
              "      <td>204609</td>\n",
              "      <td>2</td>\n",
              "    </tr>\n",
              "    <tr>\n",
              "      <th>10</th>\n",
              "      <td>2018-04-03 09:25:49</td>\n",
              "      <td>0</td>\n",
              "      <td>1</td>\n",
              "      <td>28.46</td>\n",
              "      <td>206749</td>\n",
              "      <td>2</td>\n",
              "    </tr>\n",
              "    <tr>\n",
              "      <th>11</th>\n",
              "      <td>2018-04-03 15:33:14</td>\n",
              "      <td>0</td>\n",
              "      <td>2</td>\n",
              "      <td>50.25</td>\n",
              "      <td>228794</td>\n",
              "      <td>2</td>\n",
              "    </tr>\n",
              "    <tr>\n",
              "      <th>12</th>\n",
              "      <td>2018-04-03 07:41:24</td>\n",
              "      <td>0</td>\n",
              "      <td>1</td>\n",
              "      <td>93.26</td>\n",
              "      <td>200484</td>\n",
              "      <td>2</td>\n",
              "    </tr>\n",
              "    <tr>\n",
              "      <th>13</th>\n",
              "      <td>2018-04-04 01:15:35</td>\n",
              "      <td>0</td>\n",
              "      <td>0</td>\n",
              "      <td>46.40</td>\n",
              "      <td>263735</td>\n",
              "      <td>3</td>\n",
              "    </tr>\n",
              "    <tr>\n",
              "      <th>14</th>\n",
              "      <td>2018-04-04 09:33:58</td>\n",
              "      <td>0</td>\n",
              "      <td>2</td>\n",
              "      <td>23.26</td>\n",
              "      <td>293638</td>\n",
              "      <td>3</td>\n",
              "    </tr>\n",
              "    <tr>\n",
              "      <th>15</th>\n",
              "      <td>2018-04-05 16:19:09</td>\n",
              "      <td>0</td>\n",
              "      <td>1</td>\n",
              "      <td>71.96</td>\n",
              "      <td>404349</td>\n",
              "      <td>4</td>\n",
              "    </tr>\n",
              "    <tr>\n",
              "      <th>16</th>\n",
              "      <td>2018-04-05 07:41:19</td>\n",
              "      <td>0</td>\n",
              "      <td>2</td>\n",
              "      <td>52.69</td>\n",
              "      <td>373279</td>\n",
              "      <td>4</td>\n",
              "    </tr>\n",
              "  </tbody>\n",
              "</table>\n",
              "</div>"
            ],
            "text/plain": [
              "           TX_DATETIME  CUSTOMER_ID  ...  TX_TIME_SECONDS  TX_TIME_DAYS\n",
              "0  2018-04-01 07:19:05            0  ...            26345             0\n",
              "1  2018-04-01 19:02:02            0  ...            68522             0\n",
              "2  2018-04-01 18:00:16            0  ...            64816             0\n",
              "3  2018-04-02 15:13:02            0  ...           141182             1\n",
              "4  2018-04-02 14:05:38            0  ...           137138             1\n",
              "5  2018-04-02 15:46:51            0  ...           143211             1\n",
              "6  2018-04-02 08:51:06            0  ...           118266             1\n",
              "7  2018-04-02 20:24:47            0  ...           159887             1\n",
              "8  2018-04-03 12:15:47            0  ...           216947             2\n",
              "9  2018-04-03 08:50:09            0  ...           204609             2\n",
              "10 2018-04-03 09:25:49            0  ...           206749             2\n",
              "11 2018-04-03 15:33:14            0  ...           228794             2\n",
              "12 2018-04-03 07:41:24            0  ...           200484             2\n",
              "13 2018-04-04 01:15:35            0  ...           263735             3\n",
              "14 2018-04-04 09:33:58            0  ...           293638             3\n",
              "15 2018-04-05 16:19:09            0  ...           404349             4\n",
              "16 2018-04-05 07:41:19            0  ...           373279             4\n",
              "\n",
              "[17 rows x 6 columns]"
            ]
          },
          "metadata": {
            "tags": []
          },
          "execution_count": 10
        }
      ]
    },
    {
      "cell_type": "code",
      "metadata": {
        "colab": {
          "base_uri": "https://localhost:8080/",
          "height": 417
        },
        "id": "ayPYcHzXQaoR",
        "outputId": "9929f644-27db-4181-eae4-9801af7e3ded"
      },
      "source": [
        "# Generate transactions for all customers\n",
        "transactions_df=customer_profiles_table.groupby('CUSTOMER_ID').apply(lambda x : generate_transactions_table(x.iloc[0], nb_days=5)).reset_index(drop=True)\n",
        "transactions_df"
      ],
      "execution_count": 11,
      "outputs": [
        {
          "output_type": "execute_result",
          "data": {
            "text/html": [
              "<div>\n",
              "<style scoped>\n",
              "    .dataframe tbody tr th:only-of-type {\n",
              "        vertical-align: middle;\n",
              "    }\n",
              "\n",
              "    .dataframe tbody tr th {\n",
              "        vertical-align: top;\n",
              "    }\n",
              "\n",
              "    .dataframe thead th {\n",
              "        text-align: right;\n",
              "    }\n",
              "</style>\n",
              "<table border=\"1\" class=\"dataframe\">\n",
              "  <thead>\n",
              "    <tr style=\"text-align: right;\">\n",
              "      <th></th>\n",
              "      <th>TX_DATETIME</th>\n",
              "      <th>CUSTOMER_ID</th>\n",
              "      <th>TERMINAL_ID</th>\n",
              "      <th>TX_AMOUNT</th>\n",
              "      <th>TX_TIME_SECONDS</th>\n",
              "      <th>TX_TIME_DAYS</th>\n",
              "    </tr>\n",
              "  </thead>\n",
              "  <tbody>\n",
              "    <tr>\n",
              "      <th>0</th>\n",
              "      <td>2018-04-01 07:19:05</td>\n",
              "      <td>0</td>\n",
              "      <td>3</td>\n",
              "      <td>123.59</td>\n",
              "      <td>26345</td>\n",
              "      <td>0</td>\n",
              "    </tr>\n",
              "    <tr>\n",
              "      <th>1</th>\n",
              "      <td>2018-04-01 19:02:02</td>\n",
              "      <td>0</td>\n",
              "      <td>3</td>\n",
              "      <td>46.51</td>\n",
              "      <td>68522</td>\n",
              "      <td>0</td>\n",
              "    </tr>\n",
              "    <tr>\n",
              "      <th>2</th>\n",
              "      <td>2018-04-01 18:00:16</td>\n",
              "      <td>0</td>\n",
              "      <td>0</td>\n",
              "      <td>77.34</td>\n",
              "      <td>64816</td>\n",
              "      <td>0</td>\n",
              "    </tr>\n",
              "    <tr>\n",
              "      <th>3</th>\n",
              "      <td>2018-04-02 15:13:02</td>\n",
              "      <td>0</td>\n",
              "      <td>2</td>\n",
              "      <td>32.35</td>\n",
              "      <td>141182</td>\n",
              "      <td>1</td>\n",
              "    </tr>\n",
              "    <tr>\n",
              "      <th>4</th>\n",
              "      <td>2018-04-02 14:05:38</td>\n",
              "      <td>0</td>\n",
              "      <td>3</td>\n",
              "      <td>63.30</td>\n",
              "      <td>137138</td>\n",
              "      <td>1</td>\n",
              "    </tr>\n",
              "    <tr>\n",
              "      <th>...</th>\n",
              "      <td>...</td>\n",
              "      <td>...</td>\n",
              "      <td>...</td>\n",
              "      <td>...</td>\n",
              "      <td>...</td>\n",
              "      <td>...</td>\n",
              "    </tr>\n",
              "    <tr>\n",
              "      <th>60</th>\n",
              "      <td>2018-04-05 07:41:19</td>\n",
              "      <td>4</td>\n",
              "      <td>2</td>\n",
              "      <td>111.38</td>\n",
              "      <td>373279</td>\n",
              "      <td>4</td>\n",
              "    </tr>\n",
              "    <tr>\n",
              "      <th>61</th>\n",
              "      <td>2018-04-05 06:59:59</td>\n",
              "      <td>4</td>\n",
              "      <td>3</td>\n",
              "      <td>80.36</td>\n",
              "      <td>370799</td>\n",
              "      <td>4</td>\n",
              "    </tr>\n",
              "    <tr>\n",
              "      <th>62</th>\n",
              "      <td>2018-04-05 17:23:34</td>\n",
              "      <td>4</td>\n",
              "      <td>2</td>\n",
              "      <td>53.25</td>\n",
              "      <td>408214</td>\n",
              "      <td>4</td>\n",
              "    </tr>\n",
              "    <tr>\n",
              "      <th>63</th>\n",
              "      <td>2018-04-05 12:51:38</td>\n",
              "      <td>4</td>\n",
              "      <td>2</td>\n",
              "      <td>36.44</td>\n",
              "      <td>391898</td>\n",
              "      <td>4</td>\n",
              "    </tr>\n",
              "    <tr>\n",
              "      <th>64</th>\n",
              "      <td>2018-04-05 12:38:46</td>\n",
              "      <td>4</td>\n",
              "      <td>3</td>\n",
              "      <td>17.53</td>\n",
              "      <td>391126</td>\n",
              "      <td>4</td>\n",
              "    </tr>\n",
              "  </tbody>\n",
              "</table>\n",
              "<p>65 rows × 6 columns</p>\n",
              "</div>"
            ],
            "text/plain": [
              "           TX_DATETIME  CUSTOMER_ID  ...  TX_TIME_SECONDS  TX_TIME_DAYS\n",
              "0  2018-04-01 07:19:05            0  ...            26345             0\n",
              "1  2018-04-01 19:02:02            0  ...            68522             0\n",
              "2  2018-04-01 18:00:16            0  ...            64816             0\n",
              "3  2018-04-02 15:13:02            0  ...           141182             1\n",
              "4  2018-04-02 14:05:38            0  ...           137138             1\n",
              "..                 ...          ...  ...              ...           ...\n",
              "60 2018-04-05 07:41:19            4  ...           373279             4\n",
              "61 2018-04-05 06:59:59            4  ...           370799             4\n",
              "62 2018-04-05 17:23:34            4  ...           408214             4\n",
              "63 2018-04-05 12:51:38            4  ...           391898             4\n",
              "64 2018-04-05 12:38:46            4  ...           391126             4\n",
              "\n",
              "[65 rows x 6 columns]"
            ]
          },
          "metadata": {
            "tags": []
          },
          "execution_count": 11
        }
      ]
    },
    {
      "cell_type": "markdown",
      "metadata": {
        "id": "uBZ5aXzVRH_W"
      },
      "source": [
        "## Scaling up to a larger dataset\n",
        "We now have all the building blocks to generate a larger dataset. Let us write a generate_dataset function, that will take care of running all the previous steps. It will:\n",
        "\n",
        "\n",
        "*   take as inputs the number of desired customers, terminals and days, as well as the starting date and the radius r\n",
        "*   return the generated customer and terminal profiles table, and the DataFrame of transactions.\n",
        "\n"
      ]
    },
    {
      "cell_type": "code",
      "metadata": {
        "id": "yko0gEB3RhR1"
      },
      "source": [
        "def generate_dataset(n_customers = 10000, n_terminals = 1000000, nb_days=90, start_date=\"2018-04-01\", r=5):\n",
        "    \n",
        "    start_time=time.time()\n",
        "    customer_profiles_table = generate_customer_profiles_table(n_customers, random_state = 0)\n",
        "    print(\"Time to generate customer profiles table: {0:.2}s\".format(time.time()-start_time))\n",
        "    \n",
        "    start_time=time.time()\n",
        "    terminal_profiles_table = generate_terminal_profiles_table(n_terminals, random_state = 1)\n",
        "    print(\"Time to generate terminal profiles table: {0:.2}s\".format(time.time()-start_time))\n",
        "    \n",
        "    start_time=time.time()\n",
        "    x_y_terminals = terminal_profiles_table[['x_terminal_id','y_terminal_id']].values.astype(float)\n",
        "    customer_profiles_table['available_terminals'] = customer_profiles_table.apply(lambda x : get_list_terminals_within_radius(x, x_y_terminals=x_y_terminals, r=r), axis=1)\n",
        "    # With Pandarallel\n",
        "    #customer_profiles_table['available_terminals'] = customer_profiles_table.parallel_apply(lambda x : get_list_closest_terminals(x, x_y_terminals=x_y_terminals, r=r), axis=1)\n",
        "    customer_profiles_table['nb_terminals']=customer_profiles_table.available_terminals.apply(len)\n",
        "    print(\"Time to associate terminals to customers: {0:.2}s\".format(time.time()-start_time))\n",
        "    \n",
        "    start_time=time.time()\n",
        "    transactions_df=customer_profiles_table.groupby('CUSTOMER_ID').apply(lambda x : generate_transactions_table(x.iloc[0], nb_days=nb_days)).reset_index(drop=True)\n",
        "    # With Pandarallel\n",
        "    #transactions_df=customer_profiles_table.groupby('CUSTOMER_ID').parallel_apply(lambda x : generate_transactions_table(x.iloc[0], nb_days=nb_days)).reset_index(drop=True)\n",
        "    print(\"Time to generate transactions: {0:.2}s\".format(time.time()-start_time))\n",
        "    \n",
        "    # Sort transactions chronologically\n",
        "    transactions_df=transactions_df.sort_values('TX_DATETIME')\n",
        "    # Reset indices, starting from 0\n",
        "    transactions_df.reset_index(inplace=True,drop=True)\n",
        "    transactions_df.reset_index(inplace=True)\n",
        "    # TRANSACTION_ID are the dataframe indices, starting from 0\n",
        "    transactions_df.rename(columns = {'index':'TRANSACTION_ID'}, inplace = True)\n",
        "    \n",
        "    return (customer_profiles_table, terminal_profiles_table, transactions_df)"
      ],
      "execution_count": 13,
      "outputs": []
    },
    {
      "cell_type": "markdown",
      "metadata": {
        "id": "5xgsbRaaRqm9"
      },
      "source": [
        "\n",
        "Let us generate a dataset that features\n",
        "\n",
        "\n",
        "\n",
        "*   1,000 customers\n",
        "*   5,000 terminals\n",
        "*   30 days of transactions (which corresponds to a simulated period from 2018/04/01 to 2018/09/30)\n",
        "\n",
        "The starting date is arbitrarily fixed at 2018/04/01. The radius $r$ is set to 5, which corresponds to around 100 available terminals for each customer.\n",
        "\n",
        "It takes around 3 minutes to generate this dataset on a standard laptop."
      ]
    },
    {
      "cell_type": "code",
      "metadata": {
        "colab": {
          "base_uri": "https://localhost:8080/"
        },
        "id": "-tDXgfgoRyF-",
        "outputId": "cee3730a-f647-4777-bf07-8708cde1f2b2"
      },
      "source": [
        "(customer_profiles_table, terminal_profiles_table, transactions_df)=\\\n",
        "    generate_dataset(n_customers = 1000, \n",
        "                     n_terminals = 5000, \n",
        "                     nb_days=30, \n",
        "                     start_date=\"2018-04-01\", \n",
        "                     r=5)"
      ],
      "execution_count": 14,
      "outputs": [
        {
          "output_type": "stream",
          "text": [
            "Time to generate customer profiles table: 0.016s\n",
            "Time to generate terminal profiles table: 0.04s\n",
            "Time to associate terminals to customers: 0.59s\n",
            "Time to generate transactions: 8.6s\n"
          ],
          "name": "stdout"
        }
      ]
    },
    {
      "cell_type": "code",
      "metadata": {
        "colab": {
          "base_uri": "https://localhost:8080/"
        },
        "id": "G7J7gccMS8md",
        "outputId": "cff5d10e-1c5f-48ee-9172-8faba0df49bf"
      },
      "source": [
        "transactions_df.shape"
      ],
      "execution_count": 15,
      "outputs": [
        {
          "output_type": "execute_result",
          "data": {
            "text/plain": [
              "(56899, 7)"
            ]
          },
          "metadata": {
            "tags": []
          },
          "execution_count": 15
        }
      ]
    },
    {
      "cell_type": "code",
      "metadata": {
        "colab": {
          "base_uri": "https://localhost:8080/",
          "height": 417
        },
        "id": "e-Gu-AFeTIzk",
        "outputId": "1181ad49-1bcd-426a-ad53-9d043d94d41d"
      },
      "source": [
        "transactions_df"
      ],
      "execution_count": 16,
      "outputs": [
        {
          "output_type": "execute_result",
          "data": {
            "text/html": [
              "<div>\n",
              "<style scoped>\n",
              "    .dataframe tbody tr th:only-of-type {\n",
              "        vertical-align: middle;\n",
              "    }\n",
              "\n",
              "    .dataframe tbody tr th {\n",
              "        vertical-align: top;\n",
              "    }\n",
              "\n",
              "    .dataframe thead th {\n",
              "        text-align: right;\n",
              "    }\n",
              "</style>\n",
              "<table border=\"1\" class=\"dataframe\">\n",
              "  <thead>\n",
              "    <tr style=\"text-align: right;\">\n",
              "      <th></th>\n",
              "      <th>TRANSACTION_ID</th>\n",
              "      <th>TX_DATETIME</th>\n",
              "      <th>CUSTOMER_ID</th>\n",
              "      <th>TERMINAL_ID</th>\n",
              "      <th>TX_AMOUNT</th>\n",
              "      <th>TX_TIME_SECONDS</th>\n",
              "      <th>TX_TIME_DAYS</th>\n",
              "    </tr>\n",
              "  </thead>\n",
              "  <tbody>\n",
              "    <tr>\n",
              "      <th>0</th>\n",
              "      <td>0</td>\n",
              "      <td>2018-04-01 00:00:31</td>\n",
              "      <td>596</td>\n",
              "      <td>1337</td>\n",
              "      <td>57.16</td>\n",
              "      <td>31</td>\n",
              "      <td>0</td>\n",
              "    </tr>\n",
              "    <tr>\n",
              "      <th>1</th>\n",
              "      <td>1</td>\n",
              "      <td>2018-04-01 00:07:56</td>\n",
              "      <td>2</td>\n",
              "      <td>523</td>\n",
              "      <td>146.00</td>\n",
              "      <td>476</td>\n",
              "      <td>0</td>\n",
              "    </tr>\n",
              "    <tr>\n",
              "      <th>2</th>\n",
              "      <td>2</td>\n",
              "      <td>2018-04-01 00:10:34</td>\n",
              "      <td>927</td>\n",
              "      <td>824</td>\n",
              "      <td>50.99</td>\n",
              "      <td>634</td>\n",
              "      <td>0</td>\n",
              "    </tr>\n",
              "    <tr>\n",
              "      <th>3</th>\n",
              "      <td>3</td>\n",
              "      <td>2018-04-01 00:10:45</td>\n",
              "      <td>568</td>\n",
              "      <td>4805</td>\n",
              "      <td>44.71</td>\n",
              "      <td>645</td>\n",
              "      <td>0</td>\n",
              "    </tr>\n",
              "    <tr>\n",
              "      <th>4</th>\n",
              "      <td>4</td>\n",
              "      <td>2018-04-01 00:13:44</td>\n",
              "      <td>541</td>\n",
              "      <td>3260</td>\n",
              "      <td>59.07</td>\n",
              "      <td>824</td>\n",
              "      <td>0</td>\n",
              "    </tr>\n",
              "    <tr>\n",
              "      <th>...</th>\n",
              "      <td>...</td>\n",
              "      <td>...</td>\n",
              "      <td>...</td>\n",
              "      <td>...</td>\n",
              "      <td>...</td>\n",
              "      <td>...</td>\n",
              "      <td>...</td>\n",
              "    </tr>\n",
              "    <tr>\n",
              "      <th>56894</th>\n",
              "      <td>56894</td>\n",
              "      <td>2018-04-30 23:36:03</td>\n",
              "      <td>192</td>\n",
              "      <td>1153</td>\n",
              "      <td>19.34</td>\n",
              "      <td>2590563</td>\n",
              "      <td>29</td>\n",
              "    </tr>\n",
              "    <tr>\n",
              "      <th>56895</th>\n",
              "      <td>56895</td>\n",
              "      <td>2018-04-30 23:41:42</td>\n",
              "      <td>139</td>\n",
              "      <td>2124</td>\n",
              "      <td>41.78</td>\n",
              "      <td>2590902</td>\n",
              "      <td>29</td>\n",
              "    </tr>\n",
              "    <tr>\n",
              "      <th>56896</th>\n",
              "      <td>56896</td>\n",
              "      <td>2018-04-30 23:47:09</td>\n",
              "      <td>532</td>\n",
              "      <td>633</td>\n",
              "      <td>18.19</td>\n",
              "      <td>2591229</td>\n",
              "      <td>29</td>\n",
              "    </tr>\n",
              "    <tr>\n",
              "      <th>56897</th>\n",
              "      <td>56897</td>\n",
              "      <td>2018-04-30 23:56:49</td>\n",
              "      <td>524</td>\n",
              "      <td>1670</td>\n",
              "      <td>73.51</td>\n",
              "      <td>2591809</td>\n",
              "      <td>29</td>\n",
              "    </tr>\n",
              "    <tr>\n",
              "      <th>56898</th>\n",
              "      <td>56898</td>\n",
              "      <td>2018-04-30 23:56:58</td>\n",
              "      <td>818</td>\n",
              "      <td>1104</td>\n",
              "      <td>48.92</td>\n",
              "      <td>2591818</td>\n",
              "      <td>29</td>\n",
              "    </tr>\n",
              "  </tbody>\n",
              "</table>\n",
              "<p>56899 rows × 7 columns</p>\n",
              "</div>"
            ],
            "text/plain": [
              "       TRANSACTION_ID         TX_DATETIME  ... TX_TIME_SECONDS TX_TIME_DAYS\n",
              "0                   0 2018-04-01 00:00:31  ...              31            0\n",
              "1                   1 2018-04-01 00:07:56  ...             476            0\n",
              "2                   2 2018-04-01 00:10:34  ...             634            0\n",
              "3                   3 2018-04-01 00:10:45  ...             645            0\n",
              "4                   4 2018-04-01 00:13:44  ...             824            0\n",
              "...               ...                 ...  ...             ...          ...\n",
              "56894           56894 2018-04-30 23:36:03  ...         2590563           29\n",
              "56895           56895 2018-04-30 23:41:42  ...         2590902           29\n",
              "56896           56896 2018-04-30 23:47:09  ...         2591229           29\n",
              "56897           56897 2018-04-30 23:56:49  ...         2591809           29\n",
              "56898           56898 2018-04-30 23:56:58  ...         2591818           29\n",
              "\n",
              "[56899 rows x 7 columns]"
            ]
          },
          "metadata": {
            "tags": []
          },
          "execution_count": 16
        }
      ]
    },
    {
      "cell_type": "code",
      "metadata": {
        "id": "0hUWXaXOTrNf"
      },
      "source": [
        "# Plot the distribution of transaction amounts and transaction times\n",
        "%%capture\n",
        "\n",
        "distribution_amount_times_fig, ax = plt.subplots(1, 2, figsize=(18,4))\n",
        "\n",
        "amount_val = transactions_df[transactions_df.TX_TIME_DAYS<10]['TX_AMOUNT'].sample(n=10000).values\n",
        "time_val = transactions_df[transactions_df.TX_TIME_DAYS<10]['TX_TIME_SECONDS'].sample(n=10000).values\n",
        "\n",
        "sns.distplot(amount_val, ax=ax[0], color='r', hist = True, kde = False)\n",
        "ax[0].set_title('Distribution of transaction amounts', fontsize=14)\n",
        "ax[0].set_xlim([min(amount_val), max(amount_val)])\n",
        "ax[0].set(xlabel = \"Amount\", ylabel=\"Number of transactions\")\n",
        "\n",
        "# We divide the time variables by 86400 to transform seconds to days in the plot\n",
        "sns.distplot(time_val/86400, ax=ax[1], color='b', bins = 100, hist = True, kde = False)\n",
        "ax[1].set_title('Distribution of transaction times', fontsize=14)\n",
        "ax[1].set_xlim([min(time_val/86400), max(time_val/86400)])\n",
        "ax[1].set_xticks(range(10))\n",
        "ax[1].set(xlabel = \"Time (days)\", ylabel=\"Number of transactions\")"
      ],
      "execution_count": 17,
      "outputs": []
    },
    {
      "cell_type": "code",
      "metadata": {
        "colab": {
          "base_uri": "https://localhost:8080/",
          "height": 296
        },
        "id": "bf1EZMpnUChy",
        "outputId": "9238ff88-86fd-4c46-be0d-7a36aa53239a"
      },
      "source": [
        "distribution_amount_times_fig"
      ],
      "execution_count": null,
      "outputs": [
        {
          "output_type": "execute_result",
          "data": {
            "image/png": "[encoded data removed]",
            "text/plain": [
              "<Figure size 1296x288 with 2 Axes>"
            ]
          },
          "metadata": {
            "tags": []
          },
          "execution_count": 17
        }
      ]
    },
    {
      "cell_type": "markdown",
      "metadata": {
        "id": "5Bfv0b1PVzqR"
      },
      "source": [
        "The distribution of transaction amounts has most of its mass for small amounts. The distribution of transaction times follows a gaussian distribution on a daily basis, centered around noon."
      ]
    },
    {
      "cell_type": "markdown",
      "metadata": {
        "id": "TDnT-kpRWPvG"
      },
      "source": [
        "## Fraud Scenarios Generation\n",
        "This last step of the simulation adds fraudulent transactions to the dataset, using the following fraud scenarios:\n",
        "\n",
        "*   Scenario 1: Any transaction whose amount is more than 220 is a fraud. This scenario is not inspired by a real-world scenario. Rather, it will provide an obvious fraud pattern that should be detected by any baseline fraud detector. This will be useful to validate the implementation of a fraud detection technique.\n",
        "*   Scenario 2: Every day, a list of two terminals is drawn at random. All transactions on these terminals in the next 28 days will be marked as fraudulent. This scenario simulates a criminal use of a terminal, through phishing for example. Detecting this scenario will be possible by adding features that keep track of the number of fraudulent transactions on the terminal. Since the terminal is only compromised for 28 days, additional strategies that involve concept drift will need to be designed to efficiently deal with this scenario.\n",
        "*   Scenario 3: Every day, a list of 3 customers is drawn at random. In the next 14 days, 1/3 of their transactions have their amounts multiplied by 5 and marked as fraudulent. This scenario simulates a card-not-present fraud where the credentials of a customer have been leaked. The customer continues to make transactions, and transactions of higher values are made by the fraudster who tries to maximize their gains. Detecting this scenario will require adding features that keep track of the spending habits of the customer. As for scenario 2, since the card is only temporarily compromised, additional strategies that involve concept drift should also be designed.\n",
        "\n",
        "\n"
      ]
    },
    {
      "cell_type": "code",
      "metadata": {
        "id": "0VwMrXN1V0t_"
      },
      "source": [
        "def add_frauds(customer_profiles_table, terminal_profiles_table, transactions_df):\n",
        "    \n",
        "    # By default, all transactions are genuine\n",
        "    transactions_df['TX_FRAUD']=0\n",
        "    transactions_df['TX_FRAUD_SCENARIO']=0\n",
        "    \n",
        "    # Scenario 1\n",
        "    transactions_df.loc[transactions_df.TX_AMOUNT>220, 'TX_FRAUD']=1\n",
        "    transactions_df.loc[transactions_df.TX_AMOUNT>220, 'TX_FRAUD_SCENARIO']=1\n",
        "    nb_frauds_scenario_1=transactions_df.TX_FRAUD.sum()\n",
        "    print(\"Number of frauds from scenario 1: \"+str(nb_frauds_scenario_1))\n",
        "    \n",
        "    # Scenario 2\n",
        "    for day in range(transactions_df.TX_TIME_DAYS.max()):\n",
        "        \n",
        "        compromised_terminals = terminal_profiles_table.TERMINAL_ID.sample(n=2, random_state=day)\n",
        "        \n",
        "        compromised_transactions=transactions_df[(transactions_df.TX_TIME_DAYS>=day) & \n",
        "                                                    (transactions_df.TX_TIME_DAYS<day+28) & \n",
        "                                                    (transactions_df.TERMINAL_ID.isin(compromised_terminals))]\n",
        "                            \n",
        "        transactions_df.loc[compromised_transactions.index,'TX_FRAUD']=1\n",
        "        transactions_df.loc[compromised_transactions.index,'TX_FRAUD_SCENARIO']=2\n",
        "    \n",
        "    nb_frauds_scenario_2=transactions_df.TX_FRAUD.sum()-nb_frauds_scenario_1\n",
        "    print(\"Number of frauds from scenario 2: \"+str(nb_frauds_scenario_2))\n",
        "    \n",
        "    # Scenario 3\n",
        "    for day in range(transactions_df.TX_TIME_DAYS.max()):\n",
        "        \n",
        "        compromised_customers = customer_profiles_table.CUSTOMER_ID.sample(n=3, random_state=day).values\n",
        "        \n",
        "        compromised_transactions=transactions_df[(transactions_df.TX_TIME_DAYS>=day) & \n",
        "                                                    (transactions_df.TX_TIME_DAYS<day+14) & \n",
        "                                                    (transactions_df.CUSTOMER_ID.isin(compromised_customers))]\n",
        "        \n",
        "        nb_compromised_transactions=len(compromised_transactions)\n",
        "        \n",
        "        \n",
        "        random.seed(day)\n",
        "        index_fauds = random.sample(list(compromised_transactions.index.values),k=int(nb_compromised_transactions/3))\n",
        "        \n",
        "        transactions_df.loc[index_fauds,'TX_AMOUNT']=transactions_df.loc[index_fauds,'TX_AMOUNT']*5\n",
        "        transactions_df.loc[index_fauds,'TX_FRAUD']=1\n",
        "        transactions_df.loc[index_fauds,'TX_FRAUD_SCENARIO']=3\n",
        "        \n",
        "                             \n",
        "    nb_frauds_scenario_3=transactions_df.TX_FRAUD.sum()-nb_frauds_scenario_2-nb_frauds_scenario_1\n",
        "    print(\"Number of frauds from scenario 3: \"+str(nb_frauds_scenario_3))\n",
        "    \n",
        "    return transactions_df"
      ],
      "execution_count": 18,
      "outputs": []
    },
    {
      "cell_type": "code",
      "metadata": {
        "colab": {
          "base_uri": "https://localhost:8080/"
        },
        "id": "nFBTg68MXM0o",
        "outputId": "e115edca-7094-4bca-b7d2-432fd6e52862"
      },
      "source": [
        "# Add fraudulent transactions to the dataframe transactions\n",
        "%time transactions_df = add_frauds(customer_profiles_table, terminal_profiles_table, transactions_df)"
      ],
      "execution_count": 19,
      "outputs": [
        {
          "output_type": "stream",
          "text": [
            "Number of frauds from scenario 1: 32\n",
            "Number of frauds from scenario 2: 370\n",
            "Number of frauds from scenario 3: 644\n",
            "CPU times: user 840 ms, sys: 8.33 ms, total: 849 ms\n",
            "Wall time: 851 ms\n"
          ],
          "name": "stdout"
        }
      ]
    },
    {
      "cell_type": "code",
      "metadata": {
        "colab": {
          "base_uri": "https://localhost:8080/"
        },
        "id": "eTcyoD7dYEWQ",
        "outputId": "723c71b6-c58e-4eee-d4d3-b0e59441a58c"
      },
      "source": [
        "# Percentage of fraud transactions\n",
        "transactions_df.TX_FRAUD.mean()"
      ],
      "execution_count": 20,
      "outputs": [
        {
          "output_type": "execute_result",
          "data": {
            "text/plain": [
              "0.018383451378758853"
            ]
          },
          "metadata": {
            "tags": []
          },
          "execution_count": 20
        }
      ]
    },
    {
      "cell_type": "code",
      "metadata": {
        "colab": {
          "base_uri": "https://localhost:8080/"
        },
        "id": "_TGnjUG0YI-F",
        "outputId": "df1728b9-2e30-4073-eefb-1d4a4a945735"
      },
      "source": [
        "# Number of fraudulent transactions\n",
        "transactions_df.TX_FRAUD.sum()"
      ],
      "execution_count": 21,
      "outputs": [
        {
          "output_type": "execute_result",
          "data": {
            "text/plain": [
              "1046"
            ]
          },
          "metadata": {
            "tags": []
          },
          "execution_count": 21
        }
      ]
    },
    {
      "cell_type": "code",
      "metadata": {
        "colab": {
          "base_uri": "https://localhost:8080/",
          "height": 203
        },
        "id": "jVL6yNITYf6k",
        "outputId": "faa3ef6a-da7d-451a-8c22-b43ce9c0e5b2"
      },
      "source": [
        "# Simulated dataset is now complete\n",
        "transactions_df.head()"
      ],
      "execution_count": 22,
      "outputs": [
        {
          "output_type": "execute_result",
          "data": {
            "text/html": [
              "<div>\n",
              "<style scoped>\n",
              "    .dataframe tbody tr th:only-of-type {\n",
              "        vertical-align: middle;\n",
              "    }\n",
              "\n",
              "    .dataframe tbody tr th {\n",
              "        vertical-align: top;\n",
              "    }\n",
              "\n",
              "    .dataframe thead th {\n",
              "        text-align: right;\n",
              "    }\n",
              "</style>\n",
              "<table border=\"1\" class=\"dataframe\">\n",
              "  <thead>\n",
              "    <tr style=\"text-align: right;\">\n",
              "      <th></th>\n",
              "      <th>TRANSACTION_ID</th>\n",
              "      <th>TX_DATETIME</th>\n",
              "      <th>CUSTOMER_ID</th>\n",
              "      <th>TERMINAL_ID</th>\n",
              "      <th>TX_AMOUNT</th>\n",
              "      <th>TX_TIME_SECONDS</th>\n",
              "      <th>TX_TIME_DAYS</th>\n",
              "      <th>TX_FRAUD</th>\n",
              "      <th>TX_FRAUD_SCENARIO</th>\n",
              "    </tr>\n",
              "  </thead>\n",
              "  <tbody>\n",
              "    <tr>\n",
              "      <th>0</th>\n",
              "      <td>0</td>\n",
              "      <td>2018-04-01 00:00:31</td>\n",
              "      <td>596</td>\n",
              "      <td>1337</td>\n",
              "      <td>57.16</td>\n",
              "      <td>31</td>\n",
              "      <td>0</td>\n",
              "      <td>0</td>\n",
              "      <td>0</td>\n",
              "    </tr>\n",
              "    <tr>\n",
              "      <th>1</th>\n",
              "      <td>1</td>\n",
              "      <td>2018-04-01 00:07:56</td>\n",
              "      <td>2</td>\n",
              "      <td>523</td>\n",
              "      <td>146.00</td>\n",
              "      <td>476</td>\n",
              "      <td>0</td>\n",
              "      <td>0</td>\n",
              "      <td>0</td>\n",
              "    </tr>\n",
              "    <tr>\n",
              "      <th>2</th>\n",
              "      <td>2</td>\n",
              "      <td>2018-04-01 00:10:34</td>\n",
              "      <td>927</td>\n",
              "      <td>824</td>\n",
              "      <td>50.99</td>\n",
              "      <td>634</td>\n",
              "      <td>0</td>\n",
              "      <td>0</td>\n",
              "      <td>0</td>\n",
              "    </tr>\n",
              "    <tr>\n",
              "      <th>3</th>\n",
              "      <td>3</td>\n",
              "      <td>2018-04-01 00:10:45</td>\n",
              "      <td>568</td>\n",
              "      <td>4805</td>\n",
              "      <td>44.71</td>\n",
              "      <td>645</td>\n",
              "      <td>0</td>\n",
              "      <td>0</td>\n",
              "      <td>0</td>\n",
              "    </tr>\n",
              "    <tr>\n",
              "      <th>4</th>\n",
              "      <td>4</td>\n",
              "      <td>2018-04-01 00:13:44</td>\n",
              "      <td>541</td>\n",
              "      <td>3260</td>\n",
              "      <td>59.07</td>\n",
              "      <td>824</td>\n",
              "      <td>0</td>\n",
              "      <td>0</td>\n",
              "      <td>0</td>\n",
              "    </tr>\n",
              "  </tbody>\n",
              "</table>\n",
              "</div>"
            ],
            "text/plain": [
              "   TRANSACTION_ID         TX_DATETIME  ... TX_FRAUD TX_FRAUD_SCENARIO\n",
              "0               0 2018-04-01 00:00:31  ...        0                 0\n",
              "1               1 2018-04-01 00:07:56  ...        0                 0\n",
              "2               2 2018-04-01 00:10:34  ...        0                 0\n",
              "3               3 2018-04-01 00:10:45  ...        0                 0\n",
              "4               4 2018-04-01 00:13:44  ...        0                 0\n",
              "\n",
              "[5 rows x 9 columns]"
            ]
          },
          "metadata": {
            "tags": []
          },
          "execution_count": 22
        }
      ]
    },
    {
      "cell_type": "code",
      "metadata": {
        "id": "QAho5qwDUK_y"
      },
      "source": [
        "# EXPORT THE DATASET\n",
        "transactions_df.to_csv('cctransactions.csv')"
      ],
      "execution_count": 23,
      "outputs": []
    }
  ]
}